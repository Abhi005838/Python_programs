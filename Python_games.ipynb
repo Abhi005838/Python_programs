{
  "nbformat": 4,
  "nbformat_minor": 0,
  "metadata": {
    "colab": {
      "provenance": [],
      "authorship_tag": "ABX9TyNqWFOPsc/JdX2E3HsKRPo1",
      "include_colab_link": true
    },
    "kernelspec": {
      "name": "python3",
      "display_name": "Python 3"
    },
    "language_info": {
      "name": "python"
    }
  },
  "cells": [
    {
      "cell_type": "markdown",
      "metadata": {
        "id": "view-in-github",
        "colab_type": "text"
      },
      "source": [
        "<a href=\"https://colab.research.google.com/github/Abhi005838/Python_programs/blob/main/Python_games.ipynb\" target=\"_parent\"><img src=\"https://colab.research.google.com/assets/colab-badge.svg\" alt=\"Open In Colab\"/></a>"
      ]
    },
    {
      "cell_type": "code",
      "execution_count": null,
      "metadata": {
        "id": "w9u5ugGjbyA_"
      },
      "outputs": [],
      "source": []
    },
    {
      "cell_type": "markdown",
      "source": [
        "# 1. Python game of guessing numbers and hitting the jackpot"
      ],
      "metadata": {
        "id": "RZcRR8P-b4mb"
      }
    },
    {
      "cell_type": "code",
      "source": [
        "import random"
      ],
      "metadata": {
        "id": "ORY0IiQOcDec"
      },
      "execution_count": 1,
      "outputs": []
    },
    {
      "cell_type": "code",
      "source": [
        "jackpot= random.randint(1,100)\n",
        "\n",
        "guess = int(input(\"Welcome to the Kon Banega Jackpot Maharaj show. Let's guess the mumber between 1 to 100 ,both are included\"))\n",
        "counter = 1\n",
        "\n",
        "while guess !=jackpot:\n",
        "  if guess < jackpot:\n",
        "    print('guess higher')\n",
        "  else:\n",
        "    print('guess lower')\n",
        "\n",
        "  guess= int(input(\"Let's guess again\"))    \n",
        "  counter +=1\n",
        "\n",
        "print(\"Hey You ! Congratulations,you have hit the jackpot , the total number of attempts by you to hit the jackpot is\",counter,\"Now let's party ,enjoy \")"
      ],
      "metadata": {
        "colab": {
          "base_uri": "https://localhost:8080/"
        },
        "id": "R4tpOMiUcFel",
        "outputId": "353dc45d-3702-49e7-e7ea-b21f430805b1"
      },
      "execution_count": 6,
      "outputs": [
        {
          "output_type": "stream",
          "name": "stdout",
          "text": [
            "Welcome to the Kon Banega Jackpot Maharaj show. Let's guess the mumber between 1 to 100 ,both are included77\n",
            "guess higher\n",
            "Let's guess again88\n",
            "Hey You ! Congratulations,you have hit the jackpot , the total number of attempts by you to hit the jackpot is 2 Now let's party ,enjoy \n"
          ]
        }
      ]
    },
    {
      "cell_type": "code",
      "source": [],
      "metadata": {
        "id": "ZXR1l8ovcLlb"
      },
      "execution_count": null,
      "outputs": []
    }
  ]
}